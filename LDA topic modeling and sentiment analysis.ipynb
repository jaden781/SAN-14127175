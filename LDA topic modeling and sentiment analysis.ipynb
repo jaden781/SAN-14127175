{
 "cells": [
  {
   "cell_type": "code",
   "execution_count": 1,
   "id": "f4dd53da",
   "metadata": {},
   "outputs": [
    {
     "name": "stderr",
     "output_type": "stream",
     "text": [
      "D:\\jupyter\\lib\\site-packages\\pandas\\core\\arrays\\masked.py:61: UserWarning: Pandas requires version '1.3.6' or newer of 'bottleneck' (version '1.3.5' currently installed).\n",
      "  from pandas.core import (\n"
     ]
    }
   ],
   "source": [
    "import pandas as pd\n",
    "import numpy as np\n",
    "import re, ast, warnings\n",
    "import matplotlib.pyplot as plt\n",
    "\n",
    "from gensim import corpora, models\n",
    "from gensim.models.coherencemodel import CoherenceModel\n",
    "from sklearn.feature_extraction.text import ENGLISH_STOP_WORDS\n",
    "from scipy.stats import chi2_contingency"
   ]
  },
  {
   "cell_type": "code",
   "execution_count": 2,
   "id": "82e3ea0f",
   "metadata": {},
   "outputs": [],
   "source": [
    "warnings.filterwarnings(\"ignore\")\n",
    "plt.rcParams[\"figure.figsize\"] = (8,4)"
   ]
  },
  {
   "cell_type": "code",
   "execution_count": 3,
   "id": "bd895ff8",
   "metadata": {},
   "outputs": [],
   "source": [
    "DATA_PATH =  \"C:\\\\Users\\\\87738\\\\Desktop\\\\ERP\\\\math_anxiety_processed.csv\"\n",
    "df = pd.read_csv(DATA_PATH, low_memory=False)"
   ]
  },
  {
   "cell_type": "code",
   "execution_count": 4,
   "id": "83f1308b",
   "metadata": {},
   "outputs": [],
   "source": [
    "if \"created_at\" in df.columns:\n",
    "    df[\"created_at\"] = pd.to_datetime(df[\"created_at\"], errors=\"coerce\")\n",
    "\n",
    "def parse_listish(x):\n",
    "    if isinstance(x, list):\n",
    "        return [str(t).lower() for t in x]\n",
    "    if isinstance(x, str):\n",
    "        try:\n",
    "            val = ast.literal_eval(x)\n",
    "            if isinstance(val, list):\n",
    "                return [str(t).lower() for t in val]\n",
    "        except Exception:\n",
    "            pass\n",
    "        return re.findall(r\"[a-zA-Z']+\", x.lower())\n",
    "    return []\n",
    "if \"processed_text\" in df.columns and df[\"processed_text\"].notna().any():\n",
    "    doc_source = df[\"processed_text\"].fillna(\"\").astype(str).tolist()\n",
    "    docs = [re.findall(r\"[a-zA-Z']+\", s.lower()) for s in doc_source]\n",
    "elif \"lemmas\" in df.columns and df[\"lemmas\"].notna().any():\n",
    "    docs = df[\"lemmas\"].fillna(\"\").map(parse_listish).tolist()\n",
    "elif \"tokens\" in df.columns and df[\"tokens\"].notna().any():\n",
    "    docs = df[\"tokens\"].fillna(\"\").map(parse_listish).tolist()\n",
    "elif \"clean_text\" in df.columns and df[\"clean_text\"].notna().any():\n",
    "    doc_source = df[\"clean_text\"].fillna(\"\").astype(str).tolist()\n",
    "    docs = [re.findall(r\"[a-zA-Z']+\", s.lower()) for s in doc_source]\n",
    "else:\n",
    "    doc_source = df[\"text\"].fillna(\"\").astype(str).tolist()\n",
    "    docs = [re.findall(r\"[a-zA-Z']+\", s.lower()) for s in doc_source]"
   ]
  },
  {
   "cell_type": "code",
   "execution_count": 5,
   "id": "5df91b0f",
   "metadata": {},
   "outputs": [
    {
     "name": "stdout",
     "output_type": "stream",
     "text": [
      "Number of documents available for LDA: 2069\n"
     ]
    }
   ],
   "source": [
    "custom_stop = set(ENGLISH_STOP_WORDS) | {\n",
    "    \"math\",\"exam\",\"exams\",\"test\",\"tests\", \n",
    "    \"im\",\"ive\",\"dont\",\"cant\",\"didnt\",\"doesnt\",\"isnt\",\"wasnt\",\"youre\",\"theyre\",\n",
    "    \"http\",\"https\",\"co\",\"amp\"\n",
    "}\n",
    "def clean_tokens(tok_list):\n",
    "    return [w for w in tok_list if len(w) > 2 and w not in custom_stop]\n",
    "\n",
    "docs = [clean_tokens(toks) for toks in docs]\n",
    "\n",
    "mask = [len(t)>0 for t in docs]\n",
    "df = df.loc[mask].reset_index(drop=True)\n",
    "docs = [t for t in docs if len(t)>0]\n",
    "\n",
    "print(f\"Number of documents available for LDA: {len(docs)}\")"
   ]
  },
  {
   "cell_type": "code",
   "execution_count": 6,
   "id": "47396669",
   "metadata": {},
   "outputs": [
    {
     "name": "stdout",
     "output_type": "stream",
     "text": [
      "Number of documents after filtering: 2069, Dictionary size: 74\n"
     ]
    }
   ],
   "source": [
    "id2word = corpora.Dictionary(docs)\n",
    "id2word.filter_extremes(no_below=10, no_above=0.5, keep_n=50000)\n",
    "corpus = [id2word.doc2bow(doc) for doc in docs]\n",
    "nonempty = [len(b)>0 for b in corpus]\n",
    "df = df.loc[nonempty].reset_index(drop=True)\n",
    "docs = [d for d,b in zip(docs, nonempty) if b]\n",
    "corpus = [b for b in corpus if len(b)>0]\n",
    "\n",
    "print(f\"Number of documents after filtering: {len(corpus)}, Dictionary size: {len(id2word)}\")"
   ]
  },
  {
   "cell_type": "code",
   "execution_count": 7,
   "id": "997dfce1",
   "metadata": {},
   "outputs": [
    {
     "name": "stdout",
     "output_type": "stream",
     "text": [
      "k=5 | coherence=0.603 | log_perplexity=-3.608\n",
      "k=6 | coherence=0.611 | log_perplexity=-3.512\n",
      "k=7 | coherence=0.617 | log_perplexity=-3.462\n",
      "k=8 | coherence=0.612 | log_perplexity=-3.397\n",
      "k=9 | coherence=0.625 | log_perplexity=-3.331\n",
      "k=10 | coherence=0.612 | log_perplexity=-3.300\n",
      "\n",
      "Select the optimal number of themes: k=9，coherence=0.625，log_perplexity=-3.331\n"
     ]
    }
   ],
   "source": [
    "cand_topics = list(range(5, 11))  \n",
    "results = []\n",
    "\n",
    "for k in cand_topics:\n",
    "    lda = models.LdaModel(\n",
    "        corpus=corpus,\n",
    "        id2word=id2word,\n",
    "        num_topics=k,\n",
    "        random_state=42,\n",
    "        chunksize=2000,\n",
    "        passes=10,\n",
    "        alpha='symmetric',\n",
    "        eta='auto',\n",
    "        eval_every=None\n",
    "    )\n",
    "    cm = CoherenceModel(model=lda, texts=docs, dictionary=id2word, coherence='c_v')\n",
    "    coh = cm.get_coherence()\n",
    "    log_perp = lda.log_perplexity(corpus)\n",
    "    results.append((k, coh, log_perp, lda))\n",
    "    print(f\"k={k} | coherence={coh:.3f} | log_perplexity={log_perp:.3f}\")\n",
    "best_k, best_coh, best_logperp, lda_model = max(results, key=lambda x: x[1])\n",
    "print(f\"\\nSelect the optimal number of themes: k={best_k}，coherence={best_coh:.3f}，log_perplexity={best_logperp:.3f}\")\n"
   ]
  },
  {
   "cell_type": "code",
   "execution_count": 8,
   "id": "897dfceb",
   "metadata": {},
   "outputs": [
    {
     "data": {
      "text/html": [
       "<div>\n",
       "<style scoped>\n",
       "    .dataframe tbody tr th:only-of-type {\n",
       "        vertical-align: middle;\n",
       "    }\n",
       "\n",
       "    .dataframe tbody tr th {\n",
       "        vertical-align: top;\n",
       "    }\n",
       "\n",
       "    .dataframe thead th {\n",
       "        text-align: right;\n",
       "    }\n",
       "</style>\n",
       "<table border=\"1\" class=\"dataframe\">\n",
       "  <thead>\n",
       "    <tr style=\"text-align: right;\">\n",
       "      <th></th>\n",
       "      <th>topic_id</th>\n",
       "      <th>top_words</th>\n",
       "    </tr>\n",
       "  </thead>\n",
       "  <tbody>\n",
       "    <tr>\n",
       "      <th>0</th>\n",
       "      <td>0</td>\n",
       "      <td>trigonometri, hard, whi, club, today, meet, lo...</td>\n",
       "    </tr>\n",
       "    <tr>\n",
       "      <th>1</th>\n",
       "      <td>1</td>\n",
       "      <td>class, lost, complet, statist, progress, proud...</td>\n",
       "    </tr>\n",
       "    <tr>\n",
       "      <th>2</th>\n",
       "      <td>2</td>\n",
       "      <td>feel, algebra, learn, befor, stress, confid, r...</td>\n",
       "    </tr>\n",
       "    <tr>\n",
       "      <th>3</th>\n",
       "      <td>3</td>\n",
       "      <td>calculu, thi, hate, homework, headach, feel, g...</td>\n",
       "    </tr>\n",
       "    <tr>\n",
       "      <th>4</th>\n",
       "      <td>4</td>\n",
       "      <td>equat, handl, anymor, can't, algebra, problem,...</td>\n",
       "    </tr>\n",
       "    <tr>\n",
       "      <th>5</th>\n",
       "      <td>5</td>\n",
       "      <td>statist, assign, exercis, practic, hard, whi, ...</td>\n",
       "    </tr>\n",
       "    <tr>\n",
       "      <th>6</th>\n",
       "      <td>6</td>\n",
       "      <td>solv, problem, workbook, everi, panic, set, te...</td>\n",
       "    </tr>\n",
       "    <tr>\n",
       "      <th>7</th>\n",
       "      <td>7</td>\n",
       "      <td>frustrat, fail, brain, problem, freez, best, p...</td>\n",
       "    </tr>\n",
       "    <tr>\n",
       "      <th>8</th>\n",
       "      <td>8</td>\n",
       "      <td>class, studi, tomorrow', schedul, actual, fun,...</td>\n",
       "    </tr>\n",
       "  </tbody>\n",
       "</table>\n",
       "</div>"
      ],
      "text/plain": [
       "   topic_id                                          top_words\n",
       "0         0  trigonometri, hard, whi, club, today, meet, lo...\n",
       "1         1  class, lost, complet, statist, progress, proud...\n",
       "2         2  feel, algebra, learn, befor, stress, confid, r...\n",
       "3         3  calculu, thi, hate, homework, headach, feel, g...\n",
       "4         4  equat, handl, anymor, can't, algebra, problem,...\n",
       "5         5  statist, assign, exercis, practic, hard, whi, ...\n",
       "6         6  solv, problem, workbook, everi, panic, set, te...\n",
       "7         7  frustrat, fail, brain, problem, freez, best, p...\n",
       "8         8  class, studi, tomorrow', schedul, actual, fun,..."
      ]
     },
     "execution_count": 8,
     "metadata": {},
     "output_type": "execute_result"
    }
   ],
   "source": [
    "topn = 15\n",
    "topic_rows = []\n",
    "for t in range(best_k):\n",
    "    terms = lda_model.show_topic(t, topn=topn)\n",
    "    topic_rows.append({\n",
    "        \"topic_id\": t,\n",
    "        \"top_words\": \", \".join([w for w,_ in terms])\n",
    "    })\n",
    "topics_df = pd.DataFrame(topic_rows)\n",
    "topics_df"
   ]
  },
  {
   "cell_type": "code",
   "execution_count": 10,
   "id": "a2450ada",
   "metadata": {},
   "outputs": [
    {
     "data": {
      "text/html": [
       "<div>\n",
       "<style scoped>\n",
       "    .dataframe tbody tr th:only-of-type {\n",
       "        vertical-align: middle;\n",
       "    }\n",
       "\n",
       "    .dataframe tbody tr th {\n",
       "        vertical-align: top;\n",
       "    }\n",
       "\n",
       "    .dataframe thead th {\n",
       "        text-align: right;\n",
       "    }\n",
       "</style>\n",
       "<table border=\"1\" class=\"dataframe\">\n",
       "  <thead>\n",
       "    <tr style=\"text-align: right;\">\n",
       "      <th></th>\n",
       "      <th>topic_id</th>\n",
       "      <th>n_docs</th>\n",
       "      <th>share</th>\n",
       "    </tr>\n",
       "  </thead>\n",
       "  <tbody>\n",
       "    <tr>\n",
       "      <th>0</th>\n",
       "      <td>0</td>\n",
       "      <td>180</td>\n",
       "      <td>0.086999</td>\n",
       "    </tr>\n",
       "    <tr>\n",
       "      <th>1</th>\n",
       "      <td>1</td>\n",
       "      <td>198</td>\n",
       "      <td>0.095698</td>\n",
       "    </tr>\n",
       "    <tr>\n",
       "      <th>2</th>\n",
       "      <td>2</td>\n",
       "      <td>401</td>\n",
       "      <td>0.193813</td>\n",
       "    </tr>\n",
       "    <tr>\n",
       "      <th>3</th>\n",
       "      <td>3</td>\n",
       "      <td>286</td>\n",
       "      <td>0.138231</td>\n",
       "    </tr>\n",
       "    <tr>\n",
       "      <th>4</th>\n",
       "      <td>4</td>\n",
       "      <td>174</td>\n",
       "      <td>0.084099</td>\n",
       "    </tr>\n",
       "    <tr>\n",
       "      <th>5</th>\n",
       "      <td>5</td>\n",
       "      <td>115</td>\n",
       "      <td>0.055582</td>\n",
       "    </tr>\n",
       "    <tr>\n",
       "      <th>6</th>\n",
       "      <td>6</td>\n",
       "      <td>172</td>\n",
       "      <td>0.083132</td>\n",
       "    </tr>\n",
       "    <tr>\n",
       "      <th>7</th>\n",
       "      <td>7</td>\n",
       "      <td>264</td>\n",
       "      <td>0.127598</td>\n",
       "    </tr>\n",
       "    <tr>\n",
       "      <th>8</th>\n",
       "      <td>8</td>\n",
       "      <td>279</td>\n",
       "      <td>0.134848</td>\n",
       "    </tr>\n",
       "  </tbody>\n",
       "</table>\n",
       "</div>"
      ],
      "text/plain": [
       "   topic_id  n_docs     share\n",
       "0         0     180  0.086999\n",
       "1         1     198  0.095698\n",
       "2         2     401  0.193813\n",
       "3         3     286  0.138231\n",
       "4         4     174  0.084099\n",
       "5         5     115  0.055582\n",
       "6         6     172  0.083132\n",
       "7         7     264  0.127598\n",
       "8         8     279  0.134848"
      ]
     },
     "metadata": {},
     "output_type": "display_data"
    },
    {
     "data": {
      "image/png": "[encoded data removed]",
      "text/plain": [
       "<Figure size 800x400 with 1 Axes>"
      ]
     },
     "metadata": {},
     "output_type": "display_data"
    }
   ],
   "source": [
    "def dominant_topic(bow):\n",
    "    dist = lda_model.get_document_topics(bow, minimum_probability=0)\n",
    "    t, p = max(dist, key=lambda x: x[1])\n",
    "    return t, p\n",
    "\n",
    "assign = [dominant_topic(b) for b in corpus]\n",
    "df[\"topic_id\"] = [a[0] for a in assign]\n",
    "df[\"topic_prob\"] = [a[1] for a in assign]\n",
    "topic_sizes = df[\"topic_id\"].value_counts().sort_index()\n",
    "topic_share = (topic_sizes / topic_sizes.sum()).rename(\"share\")\n",
    "display(pd.DataFrame({\"n_docs\": topic_sizes, \"share\": topic_share}).reset_index().rename(columns={\"index\":\"topic_id\"}))\n",
    "plt.bar(topic_sizes.index.astype(str), topic_sizes.values)\n",
    "plt.xlabel(\"Topic ID\")\n",
    "plt.ylabel(\"Documents\")\n",
    "plt.title(\"Topic Sizes (LDA)\")\n",
    "plt.show()"
   ]
  },
  {
   "cell_type": "code",
   "execution_count": 11,
   "id": "adc7ccd9",
   "metadata": {
    "scrolled": false
   },
   "outputs": [
    {
     "name": "stdout",
     "output_type": "stream",
     "text": [
      "Emotion × Theme Cross-tabulation Table：\n"
     ]
    },
    {
     "data": {
      "text/html": [
       "<div>\n",
       "<style scoped>\n",
       "    .dataframe tbody tr th:only-of-type {\n",
       "        vertical-align: middle;\n",
       "    }\n",
       "\n",
       "    .dataframe tbody tr th {\n",
       "        vertical-align: top;\n",
       "    }\n",
       "\n",
       "    .dataframe thead th {\n",
       "        text-align: right;\n",
       "    }\n",
       "</style>\n",
       "<table border=\"1\" class=\"dataframe\">\n",
       "  <thead>\n",
       "    <tr style=\"text-align: right;\">\n",
       "      <th>is_negative</th>\n",
       "      <th>0</th>\n",
       "      <th>1</th>\n",
       "    </tr>\n",
       "    <tr>\n",
       "      <th>topic_id</th>\n",
       "      <th></th>\n",
       "      <th></th>\n",
       "    </tr>\n",
       "  </thead>\n",
       "  <tbody>\n",
       "    <tr>\n",
       "      <th>0</th>\n",
       "      <td>73</td>\n",
       "      <td>107</td>\n",
       "    </tr>\n",
       "    <tr>\n",
       "      <th>1</th>\n",
       "      <td>89</td>\n",
       "      <td>109</td>\n",
       "    </tr>\n",
       "    <tr>\n",
       "      <th>2</th>\n",
       "      <td>196</td>\n",
       "      <td>205</td>\n",
       "    </tr>\n",
       "    <tr>\n",
       "      <th>3</th>\n",
       "      <td>95</td>\n",
       "      <td>191</td>\n",
       "    </tr>\n",
       "    <tr>\n",
       "      <th>4</th>\n",
       "      <td>66</td>\n",
       "      <td>108</td>\n",
       "    </tr>\n",
       "    <tr>\n",
       "      <th>5</th>\n",
       "      <td>115</td>\n",
       "      <td>0</td>\n",
       "    </tr>\n",
       "    <tr>\n",
       "      <th>6</th>\n",
       "      <td>77</td>\n",
       "      <td>95</td>\n",
       "    </tr>\n",
       "    <tr>\n",
       "      <th>7</th>\n",
       "      <td>38</td>\n",
       "      <td>226</td>\n",
       "    </tr>\n",
       "    <tr>\n",
       "      <th>8</th>\n",
       "      <td>279</td>\n",
       "      <td>0</td>\n",
       "    </tr>\n",
       "  </tbody>\n",
       "</table>\n",
       "</div>"
      ],
      "text/plain": [
       "is_negative    0    1\n",
       "topic_id             \n",
       "0             73  107\n",
       "1             89  109\n",
       "2            196  205\n",
       "3             95  191\n",
       "4             66  108\n",
       "5            115    0\n",
       "6             77   95\n",
       "7             38  226\n",
       "8            279    0"
      ]
     },
     "metadata": {},
     "output_type": "display_data"
    },
    {
     "name": "stdout",
     "output_type": "stream",
     "text": [
      "\n",
      "Chi-square: chi2=580.710, dof=8, p-value=0.0000\n"
     ]
    },
    {
     "data": {
      "text/html": [
       "<div>\n",
       "<style scoped>\n",
       "    .dataframe tbody tr th:only-of-type {\n",
       "        vertical-align: middle;\n",
       "    }\n",
       "\n",
       "    .dataframe tbody tr th {\n",
       "        vertical-align: top;\n",
       "    }\n",
       "\n",
       "    .dataframe thead th {\n",
       "        text-align: right;\n",
       "    }\n",
       "</style>\n",
       "<table border=\"1\" class=\"dataframe\">\n",
       "  <thead>\n",
       "    <tr style=\"text-align: right;\">\n",
       "      <th></th>\n",
       "      <th>topic_id</th>\n",
       "      <th>negative_rate</th>\n",
       "    </tr>\n",
       "  </thead>\n",
       "  <tbody>\n",
       "    <tr>\n",
       "      <th>7</th>\n",
       "      <td>7</td>\n",
       "      <td>0.856061</td>\n",
       "    </tr>\n",
       "    <tr>\n",
       "      <th>3</th>\n",
       "      <td>3</td>\n",
       "      <td>0.667832</td>\n",
       "    </tr>\n",
       "    <tr>\n",
       "      <th>4</th>\n",
       "      <td>4</td>\n",
       "      <td>0.620690</td>\n",
       "    </tr>\n",
       "    <tr>\n",
       "      <th>0</th>\n",
       "      <td>0</td>\n",
       "      <td>0.594444</td>\n",
       "    </tr>\n",
       "    <tr>\n",
       "      <th>6</th>\n",
       "      <td>6</td>\n",
       "      <td>0.552326</td>\n",
       "    </tr>\n",
       "    <tr>\n",
       "      <th>1</th>\n",
       "      <td>1</td>\n",
       "      <td>0.550505</td>\n",
       "    </tr>\n",
       "    <tr>\n",
       "      <th>2</th>\n",
       "      <td>2</td>\n",
       "      <td>0.511222</td>\n",
       "    </tr>\n",
       "    <tr>\n",
       "      <th>5</th>\n",
       "      <td>5</td>\n",
       "      <td>0.000000</td>\n",
       "    </tr>\n",
       "    <tr>\n",
       "      <th>8</th>\n",
       "      <td>8</td>\n",
       "      <td>0.000000</td>\n",
       "    </tr>\n",
       "  </tbody>\n",
       "</table>\n",
       "</div>"
      ],
      "text/plain": [
       "   topic_id  negative_rate\n",
       "7         7       0.856061\n",
       "3         3       0.667832\n",
       "4         4       0.620690\n",
       "0         0       0.594444\n",
       "6         6       0.552326\n",
       "1         1       0.550505\n",
       "2         2       0.511222\n",
       "5         5       0.000000\n",
       "8         8       0.000000"
      ]
     },
     "metadata": {},
     "output_type": "display_data"
    },
    {
     "data": {
      "image/png": "[encoded data removed]",
      "text/plain": [
       "<Figure size 800x400 with 1 Axes>"
      ]
     },
     "metadata": {},
     "output_type": "display_data"
    }
   ],
   "source": [
    "def norm_sent(s):\n",
    "    s = str(s).strip().lower()\n",
    "    if s.startswith(\"neg\"):\n",
    "        return \"negative\"\n",
    "    if s.startswith(\"pos\"):\n",
    "        return \"positive\"\n",
    "    return \"neutral\"\n",
    "\n",
    "if \"sentiment\" in df.columns:\n",
    "    df[\"sent_label\"] = df[\"sentiment\"].map(norm_sent)\n",
    "else:\n",
    "    df[\"sent_label\"] = \"neutral\"\n",
    "\n",
    "df[\"is_negative\"] = (df[\"sent_label\"]==\"negative\").astype(int)\n",
    "\n",
    "ct = pd.crosstab(df[\"topic_id\"], df[\"is_negative\"])\n",
    "chi2, pval, dof, expected = chi2_contingency(ct)\n",
    "print(\"Emotion × Theme Cross-tabulation Table：\")\n",
    "display(ct)\n",
    "print(f\"\\nChi-square: chi2={chi2:.3f}, dof={dof}, p-value={pval:.4f}\")\n",
    "\n",
    "\n",
    "neg_rate = (\n",
    "    df.groupby(\"topic_id\")[\"is_negative\"]\n",
    "      .mean()\n",
    "      .reset_index(name=\"negative_rate\")\n",
    "      .sort_values(\"negative_rate\", ascending=False)\n",
    ")\n",
    "display(neg_rate)\n",
    "\n",
    "plt.bar(neg_rate[\"topic_id\"].astype(str), neg_rate[\"negative_rate\"])\n",
    "plt.xlabel(\"Topic ID\")\n",
    "plt.ylabel(\"Negative Rate\")\n",
    "plt.title(\"Negative Sentiment Share by Topic (LDA-assigned)\")\n",
    "plt.show()\n",
    "\n"
   ]
  },
  {
   "cell_type": "code",
   "execution_count": 15,
   "id": "2750a4e9",
   "metadata": {},
   "outputs": [
    {
     "name": "stdout",
     "output_type": "stream",
     "text": [
      "Exported lda_doc_topic_assignments.csv with columns: ['id', 'created_at', 'topic_id', 'topic_weight']\n",
      "Rows: 2069\n",
      "        id          created_at  topic_id  topic_weight\n",
      "0  2000000 2024-04-25 16:22:00         7      0.777753\n",
      "1  2000001 2023-02-23 23:26:00         2      0.822213\n",
      "2  2000002 2024-02-16 05:31:00         7      0.822201\n",
      "3  2000003 2021-05-01 11:19:00         7      0.703704\n",
      "4  2000004 2021-09-07 01:51:00         2      0.703698\n"
     ]
    }
   ],
   "source": [
    "doc_topics = lda_model.get_document_topics(corpus, minimum_probability=0.0)\n",
    "\n",
    "assign = []\n",
    "for row in doc_topics:\n",
    "    # row = [(topic_id, prob), ...] for this document\n",
    "    top_topic = max(row, key=lambda x: x[1])  # select dominant topic\n",
    "    assign.append(top_topic)  # (topic_id, probability)\n",
    "\n",
    "# Add dominant topic info to df\n",
    "df[\"topic_id\"] = [a[0] for a in assign]\n",
    "df[\"topic_weight\"] = [a[1] for a in assign]\n",
    "\n",
    "# Keep only useful columns for merging in Chapter 6\n",
    "cols_to_keep = [\"id\", \"created_at\", \"topic_id\", \"topic_weight\"]\n",
    "df_assign = df[cols_to_keep].copy()\n",
    "\n",
    "# Save as new file\n",
    "df_assign.to_csv(\"lda_doc_topic_assignments.csv\", index=False)\n",
    "\n",
    "print(\"Exported lda_doc_topic_assignments.csv with columns:\", df_assign.columns.tolist())\n",
    "print(\"Rows:\", len(df_assign))\n",
    "print(df_assign.head())"
   ]
  },
  {
   "cell_type": "code",
   "execution_count": 16,
   "id": "6602e0b2",
   "metadata": {},
   "outputs": [
    {
     "data": {
      "text/plain": [
       "'C:\\\\Users\\\\87738'"
      ]
     },
     "execution_count": 16,
     "metadata": {},
     "output_type": "execute_result"
    }
   ],
   "source": []
  },
  {
   "cell_type": "code",
   "execution_count": null,
   "id": "84191acf",
   "metadata": {},
   "outputs": [],
   "source": []
  }
 ],
 "metadata": {
  "kernelspec": {
   "display_name": "Python 3 (ipykernel)",
   "language": "python",
   "name": "python3"
  },
  "language_info": {
   "codemirror_mode": {
    "name": "ipython",
    "version": 3
   },
   "file_extension": ".py",
   "mimetype": "text/x-python",
   "name": "python",
   "nbconvert_exporter": "python",
   "pygments_lexer": "ipython3",
   "version": "3.10.9"
  }
 },
 "nbformat": 4,
 "nbformat_minor": 5
}
